{
 "cells": [
  {
   "cell_type": "markdown",
   "metadata": {},
   "source": [
    "# Sentiment Analysis: Large Movie Review Dataset\n",
    "\n",
    "Hi again! You will be expected to finish this on your own, but you can use the available channels on Discord to ask questions and help others. Please read the entire notebook before starting, this will give you a better idea of what you need to accomplish.\n",
    "\n",
    "This project is related to NLP. As you may already know, the most important and hardest part of an NLP project is pre-processing, which is why we are going to focus on that.\n",
    "\n",
    "Regarding the data, we are not going to have a __csv file__, that would be too easy :) instead we are going to download the data from [AI Stanford Dataset](https://ai.stanford.edu/~amaas/data/sentiment/). When you download them you will notice that their format is text files, so you will have to work a little there to be able to use and process them. This is a dataset for __binary sentiment classification__.\n",
    "\n",
    "Basically a basic sentiment analysis problem, as in this case, consists of a classification problem, where the possible output labels are: `positive` and `negative`. Which indicates, if the review of a movie speaks positively or negatively. In our case it is a binary problem, but one could have many more \"feelings\" tagged and thus allow a more granular analysis.\n",
    "\n",
    "### These are the objectives of the project:\n",
    "\n",
    "* Read data that is not in a traditional format.\n",
    "* Put together a set of preprocessing functions that we can use later on any NLP or related problems.\n",
    "* Vectorize the data in order to apply a machine learning model to it: using BoW or TF-IDF.\n",
    "* BoW and TF-IDF are classic ways to vectorize text, but currently we have some more complex ways with better performance, for this we are going to train our own word embedding and use it as a vectorization source for our data.\n",
    "* Train a sentiment analysis model that allows us to detect positive and negative opinions in movie reviews."
   ]
  },
  {
   "cell_type": "markdown",
   "metadata": {},
   "source": [
    "---\n",
    "## 1. Get the data\n",
    "\n",
    "#### Download the data and process it in order to obtain:\n",
    "\n",
    "* `X_train:` list with reviews for training.\n",
    "* `y_train:` list with labels for training.\n",
    "* `X_test:` list with reviews for testing.\n",
    "* `y_test:` list with labels for testing.\n",
    "\n",
    "`Notes:` Use the target column as `positive`, that way the positive value will be indicated with a value of `1` and negative with a value of `0`. In this case, a split train/test is not necessary because the original data is already separated."
   ]
  },
  {
   "cell_type": "code",
   "execution_count": 1,
   "metadata": {},
   "outputs": [],
   "source": [
    "import os"
   ]
  },
  {
   "cell_type": "code",
   "execution_count": 2,
   "metadata": {},
   "outputs": [],
   "source": [
    "def walkir(folder):\n",
    "    for dirpath, _, files in os.walk(folder):\n",
    "            for filename in files:\n",
    "                yield (dirpath, filename)"
   ]
  },
  {
   "cell_type": "code",
   "execution_count": 3,
   "metadata": {},
   "outputs": [],
   "source": [
    "X_train = []\n",
    "y_train = []\n",
    "\n",
    "for name in walkir(\"../src/movie_reviews_dataset/train/pos\"):\n",
    "    with open(os.path.join(*name), \"r\") as f:\n",
    "        data = f.read()\n",
    "    X_train.append(data)\n",
    "    y_train.append(1)\n",
    "\n",
    "for name in walkir(\"../src/movie_reviews_dataset/train/neg\"):\n",
    "    with open(os.path.join(*name), \"r\") as f:\n",
    "        data = f.read()\n",
    "    X_train.append(data)\n",
    "    y_train.append(0)"
   ]
  },
  {
   "cell_type": "code",
   "execution_count": 4,
   "metadata": {},
   "outputs": [],
   "source": [
    "X_test = []\n",
    "y_test = []\n",
    "\n",
    "for name in walkir(\"../src/movie_reviews_dataset/test/pos\"):\n",
    "    with open(os.path.join(*name), \"r\") as f:\n",
    "        data = f.read()\n",
    "    X_test.append(data)\n",
    "    y_test.append(1)\n",
    "\n",
    "for name in walkir(\"../src/movie_reviews_dataset/test/neg\"):\n",
    "    with open(os.path.join(*name), \"r\") as f:\n",
    "        data = f.read()\n",
    "    X_test.append(data)\n",
    "    y_test.append(0)"
   ]
  },
  {
   "cell_type": "markdown",
   "metadata": {},
   "source": [
    "### *Don't change anything in this block, just make it run correctly*\n",
    "\n",
    "We are going to check that you have done it right and for that we are going to see if the dimensions match."
   ]
  },
  {
   "cell_type": "code",
   "execution_count": 5,
   "metadata": {},
   "outputs": [
    {
     "name": "stdout",
     "output_type": "stream",
     "text": [
      "Reading Data Success!\n"
     ]
    }
   ],
   "source": [
    "def check_data(X_train, y_train, X_test, y_test):\n",
    "    if len(X_train) == len(y_train) == len(X_test) == len(y_test) == 25000:\n",
    "        print('Reading Data Success!')\n",
    "    else:\n",
    "        raise ValueError('Dimensions do not match!')\n",
    "\n",
    "check_data(X_train, y_train, X_test, y_test)"
   ]
  },
  {
   "cell_type": "code",
   "execution_count": null,
   "metadata": {},
   "outputs": [],
   "source": []
  },
  {
   "cell_type": "markdown",
   "metadata": {},
   "source": [
    "---\n",
    "## 2. Normalize the data\n",
    "\n",
    "#### Create the following functions but not here in the notebook, do it in the python script called `text_normalizer.py` and import them into the notebook (this way you can build your own NLP preprocessing library). In fact, the structure of the functions is already written, you must complete them with the code that you consider necessary.\n",
    "\n",
    "#### Respect names and minimal interfaces:\n",
    "\n",
    "* `remove_html_tags(text):` to remove all HTML tags that may be present in text.\n",
    "* `remove_accented_chars(text):` to remove accented characters from text\n",
    "* `expand_contractions(text):` to expand contractions of the type, \"don't\" to \"do not\". The contractions are already defined in the \"contractions.py\" file.\n",
    "* `lemmatize_text(text):` to lemmatize text.\n",
    "* `stem_text(text):` to apply stemming (NLTK's PorterStemmer) on text.\n",
    "* `remove_special_chars(text):` to remove special characters from text.\n",
    "* `remove_special_chars(text, remove_digits=True):` to remove numbers, note that it is the same function to remove special characters with the addition of an argument that enables or disables the removal of numbers.\n",
    "* `remove_stopwords(text, stopwords=stop_words):` to remove stopwords from text.\n",
    "* `remove_extra_new_lines(text):` to remove extra newlines from text.\n",
    "* `remove_extra_whitespace(text):` to remove extra whitespaces from text.\n",
    "\n",
    "If you want to add more features that would be great, for example you could start by removing emojis, using different stemming algorithms, etc. The more functions you have the better, remember that the texts are very varied and the preprocessing depends a lot on the source of our data.\n",
    "\n",
    "To apply each of the functions you created and pre-process the dataset, you must use the `normalize_corpus` function of the `text_normalizer.py` script. In this method each of the functions you wrote is called, in fact you must enable or disable what you consider necessary (`at this point we leave it to your free choice, for example: you can lemmatize or apply stemming or directly not apply any of the two and so on with the rest, but that is your choice`), this function simply groups the previous ones for a more simplified use."
   ]
  },
  {
   "cell_type": "code",
   "execution_count": 6,
   "metadata": {},
   "outputs": [
    {
     "name": "stderr",
     "output_type": "stream",
     "text": [
      "[nltk_data] Downloading package stopwords to /home/app/nltk_data...\n",
      "[nltk_data]   Package stopwords is already up-to-date!\n"
     ]
    }
   ],
   "source": [
    "import text_normalizer"
   ]
  },
  {
   "cell_type": "code",
   "execution_count": 7,
   "metadata": {},
   "outputs": [
    {
     "name": "stderr",
     "output_type": "stream",
     "text": [
      "[nltk_data] Downloading package stopwords to /home/app/nltk_data...\n",
      "[nltk_data]   Package stopwords is already up-to-date!\n"
     ]
    }
   ],
   "source": [
    "import re\n",
    "import nltk\n",
    "import spacy\n",
    "import unicodedata\n",
    "\n",
    "from bs4 import BeautifulSoup\n",
    "from contractions import CONTRACTION_MAP\n",
    "from nltk.tokenize.toktok import ToktokTokenizer\n",
    "\n",
    "nltk.download('stopwords')\n",
    "\n",
    "tokenizer = ToktokTokenizer()\n",
    "stopword_list = nltk.corpus.stopwords.words('english')\n",
    "nlp = spacy.load('en_core_web_sm')"
   ]
  },
  {
   "cell_type": "markdown",
   "metadata": {},
   "source": [
    "### *Don't change anything in this block, just make it run correctly*\n",
    "\n",
    "We are going to check that the pre-processing does what we need it to do, for this we are going to test the functions with predefined inputs and we are going to see if the outputs match what we are looking for.\n",
    "\n",
    "Note that the functions are not defined in the notebook itself, but rather that they are in a python file and you must import them in order to use them. Same thing with names, you're going to have to name your functions the way they were named."
   ]
  },
  {
   "cell_type": "code",
   "execution_count": 8,
   "metadata": {},
   "outputs": [
    {
     "name": "stdout",
     "output_type": "stream",
     "text": [
      "[1/10] Remove HTML Success!\n",
      "[2/10] Remove Accented Success!\n",
      "[3/10] Expand Contractions Success!\n",
      "[4/10] Lemmatization Success!\n",
      "where did he learn to danc like that ? hi eye were danc with humor. she shook her head and danc away .\n",
      "[5/10] Stemming Success!\n",
      "[6/10] Remove Specials Success!\n",
      "[7/10] Remove Digits Success!\n",
      "[8/10] Remove Stopwords Success!\n",
      "[9/10] Remove New Lines Success!\n",
      "[10/10] Remove Extra Whitespaces Success!\n"
     ]
    }
   ],
   "source": [
    "import nltk\n",
    "\n",
    "# Inputs\n",
    "doc_html = \"\"\"\n",
    "<br /><br />But with plague out there and the news being kept a secret,\n",
    "the New Orleans PD starts a dragnet of the city's underworld.\n",
    "\"\"\"\n",
    "doc_accented = \"Héllo, thís is an accented sénténce.\"\n",
    "doc_contractions = \"I can't, because it doesn't work.\"\n",
    "doc_lemma = \"The striped bats are hanging on their feet for best\"\n",
    "doc_stem = \"\"\"\n",
    "Where did he learn to dance like that?\n",
    "His eyes were dancing with humor.\n",
    "She shook her head and danced away.\n",
    "\"\"\"\n",
    "doc_specials = \"hello? there A-Z-R_T(,**), world, welcome to python. this **should? the next line#followed- by@ an#other %million^ %%like $this.\"\n",
    "doc_digits = \"abc123def456ghi789zero0 hello my friend number 10\"\n",
    "doc_stop = \"He is a very good person\"\n",
    "doc_new_lines = \"\"\"we\n",
    "use\n",
    "a\n",
    "lot\n",
    "of\n",
    "lines\"\"\"\n",
    "doc_spaces = \"Hello           my      dear          friend\"\n",
    "\n",
    "# Outputs\n",
    "good_html = \"\"\"\n",
    "But with plague out there and the news being kept a secret,\n",
    "the New Orleans PD starts a dragnet of the city's underworld.\n",
    "\"\"\"\n",
    "good_accented = \"Hello, this is an accented sentence.\"\n",
    "good_contractions = \"I cannot, because it does not work.\"\n",
    "good_lemma = \"the stripe bat be hang on their foot for good\"\n",
    "good_stem = \"where did he learn to danc like that ? hi eye were danc with humor. she shook her head and danc away .\"\n",
    "good_specials = \"hello there AZRT world welcome to python this should the next linefollowed by another million like this\"\n",
    "good_digits = \"abcdefghizero hello my friend number \"\n",
    "good_stop = \"good person\"\n",
    "good_new_lines = \"we use a lot of lines\"\n",
    "good_spaces = \"Hello my dear friend\"\n",
    "stop_words = nltk.corpus.stopwords.words('english')\n",
    "\n",
    "def check_normalization():\n",
    "    if good_html == text_normalizer.remove_html_tags(doc_html):\n",
    "        print('[1/10] Remove HTML Success!')\n",
    "    else:\n",
    "        raise ValueError('[1/10] Remove HTML Fail!')\n",
    "        \n",
    "    if good_accented == text_normalizer.remove_accented_chars(doc_accented):\n",
    "        print('[2/10] Remove Accented Success!')\n",
    "    else:\n",
    "        raise ValueError('[2/10] Remove Accented Fail!')\n",
    "        \n",
    "    if good_contractions == text_normalizer.expand_contractions(doc_contractions):\n",
    "        print('[3/10] Expand Contractions Success!')\n",
    "    else:\n",
    "        raise ValueError('[3/10] Expand Contractions Fail!')\n",
    "        \n",
    "    if good_lemma == text_normalizer.lemmatize_text(doc_lemma):\n",
    "        print('[4/10] Lemmatization Success!')\n",
    "    else:\n",
    "        raise ValueError('[4/10] Lemmatization Fail!')\n",
    "        \n",
    "    print(text_normalizer.stem_text(doc_stem))\n",
    "    if good_stem == text_normalizer.stem_text(doc_stem):\n",
    "        print('[5/10] Stemming Success!')\n",
    "    else:\n",
    "        raise ValueError('[5/10] Stemming Fail!')\n",
    "        \n",
    "    if good_specials == text_normalizer.remove_special_chars(doc_specials):\n",
    "        print('[6/10] Remove Specials Success!')\n",
    "    else:\n",
    "        raise ValueError('[6/8] Remove Specials Fail!')\n",
    "        \n",
    "    if good_digits == text_normalizer.remove_special_chars(doc_digits, remove_digits=True):\n",
    "        print('[7/10] Remove Digits Success!')\n",
    "    else:\n",
    "        raise ValueError('[7/10] Remove Digits Fail!')\n",
    "        \n",
    "    if good_stop == text_normalizer.remove_stopwords(doc_stop, stopwords=stop_words):\n",
    "        print('[8/10] Remove Stopwords Success!')\n",
    "    else:\n",
    "        raise ValueError('[8/10] Remove Stopwords Fail!')\n",
    "    \n",
    "    if good_new_lines == text_normalizer.remove_extra_new_lines(doc_new_lines):\n",
    "        print('[9/10] Remove New Lines Success!')\n",
    "    else:\n",
    "        raise ValueError('[9/10] Remove New Lines Fail!')\n",
    "        \n",
    "    if good_spaces == text_normalizer.remove_extra_whitespace(doc_spaces):\n",
    "        print('[10/10] Remove Extra Whitespaces Success!')\n",
    "    else:\n",
    "        raise ValueError('[10/10] Remove Extra Whitespaces Fail!')\n",
    "\n",
    "check_normalization()"
   ]
  },
  {
   "cell_type": "code",
   "execution_count": 9,
   "metadata": {},
   "outputs": [],
   "source": [
    "X_train_norm = text_normalizer.normalize_corpus(X_train,\n",
    "    html_stripping=True,\n",
    "    contraction_expansion=True,\n",
    "    accented_char_removal=True,\n",
    "    text_lower_case=True,\n",
    "    text_stemming=True,\n",
    "    text_lemmatization=False,\n",
    "    special_char_removal=True,\n",
    "    remove_digits=True,\n",
    "    stopword_removal=True,\n",
    "    stopwords=stopword_list\n",
    ")"
   ]
  },
  {
   "cell_type": "code",
   "execution_count": 10,
   "metadata": {},
   "outputs": [],
   "source": [
    "X_test_norm = text_normalizer.normalize_corpus(X_test,\n",
    "    html_stripping=True,\n",
    "    contraction_expansion=True,\n",
    "    accented_char_removal=True,\n",
    "    text_lower_case=True,\n",
    "    text_stemming=True,\n",
    "    text_lemmatization=False,\n",
    "    special_char_removal=True,\n",
    "    remove_digits=True,\n",
    "    stopword_removal=True,\n",
    "    stopwords=stopword_list\n",
    ")"
   ]
  },
  {
   "cell_type": "code",
   "execution_count": null,
   "metadata": {},
   "outputs": [],
   "source": []
  },
  {
   "cell_type": "markdown",
   "metadata": {},
   "source": [
    "---\n",
    "## 3. Feature Engineering\n",
    "\n",
    "You already have the pre-processed data, now you must vectorize them, because remember that the models only understand numbers. At this stage choose whether you want to vectorize with BoW or with TF-IDF. Later we will train our own embedding but for now we go with a more \"classic\" vectorization."
   ]
  },
  {
   "cell_type": "code",
   "execution_count": 11,
   "metadata": {},
   "outputs": [],
   "source": [
    "# We will use TF-IDF\n",
    "from sklearn.feature_extraction.text import TfidfVectorizer\n",
    "\n",
    "max_features=1000\n",
    "tf_idf_vec = TfidfVectorizer(max_features=max_features)"
   ]
  },
  {
   "cell_type": "code",
   "execution_count": 12,
   "metadata": {},
   "outputs": [
    {
     "name": "stderr",
     "output_type": "stream",
     "text": [
      "/home/app/.local/lib/python3.8/site-packages/sklearn/utils/deprecation.py:87: FutureWarning: Function get_feature_names is deprecated; get_feature_names is deprecated in 1.0 and will be removed in 1.2. Please use get_feature_names_out instead.\n",
      "  warnings.warn(msg, category=FutureWarning)\n"
     ]
    },
    {
     "data": {
      "text/plain": [
       "1000"
      ]
     },
     "execution_count": 12,
     "metadata": {},
     "output_type": "execute_result"
    }
   ],
   "source": [
    "X_train_tf_idf = tf_idf_vec.fit_transform(X_train_norm)\n",
    "X_test_tf_idf = tf_idf_vec.transform(X_test_norm)\n",
    "all_words = tf_idf_vec.get_feature_names()\n",
    "len(all_words)"
   ]
  },
  {
   "cell_type": "code",
   "execution_count": null,
   "metadata": {},
   "outputs": [],
   "source": []
  },
  {
   "cell_type": "markdown",
   "metadata": {},
   "source": [
    "## 4. Modeling and Performance Evaluation\n",
    "\n",
    "As we said at the beginning, what interests us most in this part is pre-processing. However, we must train a model, so choose a model of your choice (obviously a classification model, given the problem we are facing) and apply everything we learned. Also if you want you can try several models, the more models you use and know better!\n",
    "\n",
    "In addition to training the model we ask you to show:\n",
    "\n",
    "* `Precision`\n",
    "* `Recall`\n",
    "* `F1-Score`\n",
    "* `Classification Report`\n",
    "* `Confusion Matrix`\n",
    "\n",
    "To do this you must complete the `get_performance` function of the `evaluation.py` script.\n",
    "\n",
    "Also, you must complete the `plot_roc` function so that it can show:\n",
    "\n",
    "* `ROC Curve`\n",
    "* `Obtain the ROC-AUC value (later we will do a small minimum performance check with this value)`"
   ]
  },
  {
   "cell_type": "code",
   "execution_count": 13,
   "metadata": {},
   "outputs": [],
   "source": [
    "# Training a LOGISTIC REGRESSION classifier model - with RandomizedSearchCV to find the best combination of hyperparameters\n",
    "\n",
    "hyperparameter_grid_LogReg = {\n",
    "    \"tol\": [0.00001, 0.0001, 0.001],\n",
    "    \"C\": [2, 1, 0.5],\n",
    "    \"max_iter\": [1000, 500, 100]\n",
    "}"
   ]
  },
  {
   "cell_type": "code",
   "execution_count": 14,
   "metadata": {},
   "outputs": [
    {
     "data": {
      "text/html": [
       "<style>#sk-container-id-1 {color: black;background-color: white;}#sk-container-id-1 pre{padding: 0;}#sk-container-id-1 div.sk-toggleable {background-color: white;}#sk-container-id-1 label.sk-toggleable__label {cursor: pointer;display: block;width: 100%;margin-bottom: 0;padding: 0.3em;box-sizing: border-box;text-align: center;}#sk-container-id-1 label.sk-toggleable__label-arrow:before {content: \"▸\";float: left;margin-right: 0.25em;color: #696969;}#sk-container-id-1 label.sk-toggleable__label-arrow:hover:before {color: black;}#sk-container-id-1 div.sk-estimator:hover label.sk-toggleable__label-arrow:before {color: black;}#sk-container-id-1 div.sk-toggleable__content {max-height: 0;max-width: 0;overflow: hidden;text-align: left;background-color: #f0f8ff;}#sk-container-id-1 div.sk-toggleable__content pre {margin: 0.2em;color: black;border-radius: 0.25em;background-color: #f0f8ff;}#sk-container-id-1 input.sk-toggleable__control:checked~div.sk-toggleable__content {max-height: 200px;max-width: 100%;overflow: auto;}#sk-container-id-1 input.sk-toggleable__control:checked~label.sk-toggleable__label-arrow:before {content: \"▾\";}#sk-container-id-1 div.sk-estimator input.sk-toggleable__control:checked~label.sk-toggleable__label {background-color: #d4ebff;}#sk-container-id-1 div.sk-label input.sk-toggleable__control:checked~label.sk-toggleable__label {background-color: #d4ebff;}#sk-container-id-1 input.sk-hidden--visually {border: 0;clip: rect(1px 1px 1px 1px);clip: rect(1px, 1px, 1px, 1px);height: 1px;margin: -1px;overflow: hidden;padding: 0;position: absolute;width: 1px;}#sk-container-id-1 div.sk-estimator {font-family: monospace;background-color: #f0f8ff;border: 1px dotted black;border-radius: 0.25em;box-sizing: border-box;margin-bottom: 0.5em;}#sk-container-id-1 div.sk-estimator:hover {background-color: #d4ebff;}#sk-container-id-1 div.sk-parallel-item::after {content: \"\";width: 100%;border-bottom: 1px solid gray;flex-grow: 1;}#sk-container-id-1 div.sk-label:hover label.sk-toggleable__label {background-color: #d4ebff;}#sk-container-id-1 div.sk-serial::before {content: \"\";position: absolute;border-left: 1px solid gray;box-sizing: border-box;top: 0;bottom: 0;left: 50%;z-index: 0;}#sk-container-id-1 div.sk-serial {display: flex;flex-direction: column;align-items: center;background-color: white;padding-right: 0.2em;padding-left: 0.2em;position: relative;}#sk-container-id-1 div.sk-item {position: relative;z-index: 1;}#sk-container-id-1 div.sk-parallel {display: flex;align-items: stretch;justify-content: center;background-color: white;position: relative;}#sk-container-id-1 div.sk-item::before, #sk-container-id-1 div.sk-parallel-item::before {content: \"\";position: absolute;border-left: 1px solid gray;box-sizing: border-box;top: 0;bottom: 0;left: 50%;z-index: -1;}#sk-container-id-1 div.sk-parallel-item {display: flex;flex-direction: column;z-index: 1;position: relative;background-color: white;}#sk-container-id-1 div.sk-parallel-item:first-child::after {align-self: flex-end;width: 50%;}#sk-container-id-1 div.sk-parallel-item:last-child::after {align-self: flex-start;width: 50%;}#sk-container-id-1 div.sk-parallel-item:only-child::after {width: 0;}#sk-container-id-1 div.sk-dashed-wrapped {border: 1px dashed gray;margin: 0 0.4em 0.5em 0.4em;box-sizing: border-box;padding-bottom: 0.4em;background-color: white;}#sk-container-id-1 div.sk-label label {font-family: monospace;font-weight: bold;display: inline-block;line-height: 1.2em;}#sk-container-id-1 div.sk-label-container {text-align: center;}#sk-container-id-1 div.sk-container {/* jupyter's `normalize.less` sets `[hidden] { display: none; }` but bootstrap.min.css set `[hidden] { display: none !important; }` so we also need the `!important` here to be able to override the default hidden behavior on the sphinx rendered scikit-learn.org. See: https://github.com/scikit-learn/scikit-learn/issues/21755 */display: inline-block !important;position: relative;}#sk-container-id-1 div.sk-text-repr-fallback {display: none;}</style><div id=\"sk-container-id-1\" class=\"sk-top-container\"><div class=\"sk-text-repr-fallback\"><pre>RandomizedSearchCV(estimator=LogisticRegression(n_jobs=-1, random_state=42),\n",
       "                   param_distributions={&#x27;C&#x27;: [2, 1, 0.5],\n",
       "                                        &#x27;max_iter&#x27;: [1000, 500, 100],\n",
       "                                        &#x27;tol&#x27;: [1e-05, 0.0001, 0.001]},\n",
       "                   random_state=42, scoring=&#x27;roc_auc&#x27;)</pre><b>In a Jupyter environment, please rerun this cell to show the HTML representation or trust the notebook. <br />On GitHub, the HTML representation is unable to render, please try loading this page with nbviewer.org.</b></div><div class=\"sk-container\" hidden><div class=\"sk-item sk-dashed-wrapped\"><div class=\"sk-label-container\"><div class=\"sk-label sk-toggleable\"><input class=\"sk-toggleable__control sk-hidden--visually\" id=\"sk-estimator-id-1\" type=\"checkbox\" ><label for=\"sk-estimator-id-1\" class=\"sk-toggleable__label sk-toggleable__label-arrow\">RandomizedSearchCV</label><div class=\"sk-toggleable__content\"><pre>RandomizedSearchCV(estimator=LogisticRegression(n_jobs=-1, random_state=42),\n",
       "                   param_distributions={&#x27;C&#x27;: [2, 1, 0.5],\n",
       "                                        &#x27;max_iter&#x27;: [1000, 500, 100],\n",
       "                                        &#x27;tol&#x27;: [1e-05, 0.0001, 0.001]},\n",
       "                   random_state=42, scoring=&#x27;roc_auc&#x27;)</pre></div></div></div><div class=\"sk-parallel\"><div class=\"sk-parallel-item\"><div class=\"sk-item\"><div class=\"sk-label-container\"><div class=\"sk-label sk-toggleable\"><input class=\"sk-toggleable__control sk-hidden--visually\" id=\"sk-estimator-id-2\" type=\"checkbox\" ><label for=\"sk-estimator-id-2\" class=\"sk-toggleable__label sk-toggleable__label-arrow\">estimator: LogisticRegression</label><div class=\"sk-toggleable__content\"><pre>LogisticRegression(n_jobs=-1, random_state=42)</pre></div></div></div><div class=\"sk-serial\"><div class=\"sk-item\"><div class=\"sk-estimator sk-toggleable\"><input class=\"sk-toggleable__control sk-hidden--visually\" id=\"sk-estimator-id-3\" type=\"checkbox\" ><label for=\"sk-estimator-id-3\" class=\"sk-toggleable__label sk-toggleable__label-arrow\">LogisticRegression</label><div class=\"sk-toggleable__content\"><pre>LogisticRegression(n_jobs=-1, random_state=42)</pre></div></div></div></div></div></div></div></div></div></div>"
      ],
      "text/plain": [
       "RandomizedSearchCV(estimator=LogisticRegression(n_jobs=-1, random_state=42),\n",
       "                   param_distributions={'C': [2, 1, 0.5],\n",
       "                                        'max_iter': [1000, 500, 100],\n",
       "                                        'tol': [1e-05, 0.0001, 0.001]},\n",
       "                   random_state=42, scoring='roc_auc')"
      ]
     },
     "execution_count": 14,
     "metadata": {},
     "output_type": "execute_result"
    }
   ],
   "source": [
    "from sklearn.linear_model import LogisticRegression\n",
    "from sklearn.model_selection import RandomizedSearchCV\n",
    "\n",
    "model_LogReg_srCV = LogisticRegression(n_jobs=-1, random_state=42)\n",
    "rand_srCV_LogReg = RandomizedSearchCV(model_LogReg_srCV, hyperparameter_grid_LogReg, scoring=\"roc_auc\", random_state=42)\n",
    "rand_srCV_LogReg.fit(X_train_tf_idf, y_train)"
   ]
  },
  {
   "cell_type": "code",
   "execution_count": 15,
   "metadata": {},
   "outputs": [
    {
     "data": {
      "text/plain": [
       "{'tol': 0.0001, 'max_iter': 500, 'C': 1}"
      ]
     },
     "execution_count": 15,
     "metadata": {},
     "output_type": "execute_result"
    }
   ],
   "source": [
    "rand_srCV_LogReg.best_params_"
   ]
  },
  {
   "cell_type": "code",
   "execution_count": 16,
   "metadata": {},
   "outputs": [
    {
     "data": {
      "text/plain": [
       "{'C': 1,\n",
       " 'class_weight': None,\n",
       " 'dual': False,\n",
       " 'fit_intercept': True,\n",
       " 'intercept_scaling': 1,\n",
       " 'l1_ratio': None,\n",
       " 'max_iter': 500,\n",
       " 'multi_class': 'auto',\n",
       " 'n_jobs': -1,\n",
       " 'penalty': 'l2',\n",
       " 'random_state': 42,\n",
       " 'solver': 'lbfgs',\n",
       " 'tol': 0.0001,\n",
       " 'verbose': 0,\n",
       " 'warm_start': False}"
      ]
     },
     "execution_count": 16,
     "metadata": {},
     "output_type": "execute_result"
    }
   ],
   "source": [
    "rand_srCV_LogReg.best_estimator_.get_params()"
   ]
  },
  {
   "cell_type": "code",
   "execution_count": 17,
   "metadata": {},
   "outputs": [
    {
     "data": {
      "text/html": [
       "<div>\n",
       "<style scoped>\n",
       "    .dataframe tbody tr th:only-of-type {\n",
       "        vertical-align: middle;\n",
       "    }\n",
       "\n",
       "    .dataframe tbody tr th {\n",
       "        vertical-align: top;\n",
       "    }\n",
       "\n",
       "    .dataframe thead th {\n",
       "        text-align: right;\n",
       "    }\n",
       "</style>\n",
       "<table border=\"1\" class=\"dataframe\">\n",
       "  <thead>\n",
       "    <tr style=\"text-align: right;\">\n",
       "      <th></th>\n",
       "      <th>mean_fit_time</th>\n",
       "      <th>std_fit_time</th>\n",
       "      <th>mean_score_time</th>\n",
       "      <th>std_score_time</th>\n",
       "      <th>param_tol</th>\n",
       "      <th>param_max_iter</th>\n",
       "      <th>param_C</th>\n",
       "      <th>params</th>\n",
       "      <th>split0_test_score</th>\n",
       "      <th>split1_test_score</th>\n",
       "      <th>split2_test_score</th>\n",
       "      <th>split3_test_score</th>\n",
       "      <th>split4_test_score</th>\n",
       "      <th>mean_test_score</th>\n",
       "      <th>std_test_score</th>\n",
       "      <th>rank_test_score</th>\n",
       "    </tr>\n",
       "  </thead>\n",
       "  <tbody>\n",
       "    <tr>\n",
       "      <th>0</th>\n",
       "      <td>6.329654</td>\n",
       "      <td>5.070795</td>\n",
       "      <td>0.024479</td>\n",
       "      <td>0.018843</td>\n",
       "      <td>0.001</td>\n",
       "      <td>100</td>\n",
       "      <td>2</td>\n",
       "      <td>{'tol': 0.001, 'max_iter': 100, 'C': 2}</td>\n",
       "      <td>0.930946</td>\n",
       "      <td>0.923618</td>\n",
       "      <td>0.916704</td>\n",
       "      <td>0.924780</td>\n",
       "      <td>0.928666</td>\n",
       "      <td>0.924943</td>\n",
       "      <td>0.004890</td>\n",
       "      <td>9</td>\n",
       "    </tr>\n",
       "    <tr>\n",
       "      <th>1</th>\n",
       "      <td>3.659245</td>\n",
       "      <td>1.481168</td>\n",
       "      <td>0.010211</td>\n",
       "      <td>0.001533</td>\n",
       "      <td>0.0001</td>\n",
       "      <td>500</td>\n",
       "      <td>1</td>\n",
       "      <td>{'tol': 0.0001, 'max_iter': 500, 'C': 1}</td>\n",
       "      <td>0.930883</td>\n",
       "      <td>0.924390</td>\n",
       "      <td>0.917534</td>\n",
       "      <td>0.925139</td>\n",
       "      <td>0.929059</td>\n",
       "      <td>0.925401</td>\n",
       "      <td>0.004613</td>\n",
       "      <td>1</td>\n",
       "    </tr>\n",
       "    <tr>\n",
       "      <th>2</th>\n",
       "      <td>3.290897</td>\n",
       "      <td>0.620117</td>\n",
       "      <td>0.017610</td>\n",
       "      <td>0.005571</td>\n",
       "      <td>0.00001</td>\n",
       "      <td>1000</td>\n",
       "      <td>1</td>\n",
       "      <td>{'tol': 1e-05, 'max_iter': 1000, 'C': 1}</td>\n",
       "      <td>0.930883</td>\n",
       "      <td>0.924390</td>\n",
       "      <td>0.917534</td>\n",
       "      <td>0.925139</td>\n",
       "      <td>0.929059</td>\n",
       "      <td>0.925401</td>\n",
       "      <td>0.004613</td>\n",
       "      <td>1</td>\n",
       "    </tr>\n",
       "    <tr>\n",
       "      <th>3</th>\n",
       "      <td>1.896921</td>\n",
       "      <td>0.700983</td>\n",
       "      <td>0.017760</td>\n",
       "      <td>0.008425</td>\n",
       "      <td>0.00001</td>\n",
       "      <td>500</td>\n",
       "      <td>0.5</td>\n",
       "      <td>{'tol': 1e-05, 'max_iter': 500, 'C': 0.5}</td>\n",
       "      <td>0.929849</td>\n",
       "      <td>0.924512</td>\n",
       "      <td>0.917500</td>\n",
       "      <td>0.924416</td>\n",
       "      <td>0.928484</td>\n",
       "      <td>0.924952</td>\n",
       "      <td>0.004301</td>\n",
       "      <td>7</td>\n",
       "    </tr>\n",
       "    <tr>\n",
       "      <th>4</th>\n",
       "      <td>0.983166</td>\n",
       "      <td>0.090894</td>\n",
       "      <td>0.014952</td>\n",
       "      <td>0.004183</td>\n",
       "      <td>0.00001</td>\n",
       "      <td>1000</td>\n",
       "      <td>2</td>\n",
       "      <td>{'tol': 1e-05, 'max_iter': 1000, 'C': 2}</td>\n",
       "      <td>0.930946</td>\n",
       "      <td>0.923618</td>\n",
       "      <td>0.916704</td>\n",
       "      <td>0.924780</td>\n",
       "      <td>0.928666</td>\n",
       "      <td>0.924943</td>\n",
       "      <td>0.004890</td>\n",
       "      <td>9</td>\n",
       "    </tr>\n",
       "    <tr>\n",
       "      <th>5</th>\n",
       "      <td>0.916942</td>\n",
       "      <td>0.064328</td>\n",
       "      <td>0.009861</td>\n",
       "      <td>0.003961</td>\n",
       "      <td>0.001</td>\n",
       "      <td>1000</td>\n",
       "      <td>1</td>\n",
       "      <td>{'tol': 0.001, 'max_iter': 1000, 'C': 1}</td>\n",
       "      <td>0.930883</td>\n",
       "      <td>0.924390</td>\n",
       "      <td>0.917534</td>\n",
       "      <td>0.925139</td>\n",
       "      <td>0.929059</td>\n",
       "      <td>0.925401</td>\n",
       "      <td>0.004613</td>\n",
       "      <td>1</td>\n",
       "    </tr>\n",
       "    <tr>\n",
       "      <th>6</th>\n",
       "      <td>0.934410</td>\n",
       "      <td>0.071030</td>\n",
       "      <td>0.009380</td>\n",
       "      <td>0.005395</td>\n",
       "      <td>0.0001</td>\n",
       "      <td>100</td>\n",
       "      <td>1</td>\n",
       "      <td>{'tol': 0.0001, 'max_iter': 100, 'C': 1}</td>\n",
       "      <td>0.930883</td>\n",
       "      <td>0.924390</td>\n",
       "      <td>0.917534</td>\n",
       "      <td>0.925139</td>\n",
       "      <td>0.929059</td>\n",
       "      <td>0.925401</td>\n",
       "      <td>0.004613</td>\n",
       "      <td>1</td>\n",
       "    </tr>\n",
       "    <tr>\n",
       "      <th>7</th>\n",
       "      <td>0.902001</td>\n",
       "      <td>0.045923</td>\n",
       "      <td>0.007316</td>\n",
       "      <td>0.001179</td>\n",
       "      <td>0.001</td>\n",
       "      <td>100</td>\n",
       "      <td>1</td>\n",
       "      <td>{'tol': 0.001, 'max_iter': 100, 'C': 1}</td>\n",
       "      <td>0.930883</td>\n",
       "      <td>0.924390</td>\n",
       "      <td>0.917534</td>\n",
       "      <td>0.925139</td>\n",
       "      <td>0.929059</td>\n",
       "      <td>0.925401</td>\n",
       "      <td>0.004613</td>\n",
       "      <td>1</td>\n",
       "    </tr>\n",
       "    <tr>\n",
       "      <th>8</th>\n",
       "      <td>0.998765</td>\n",
       "      <td>0.228800</td>\n",
       "      <td>0.006995</td>\n",
       "      <td>0.002857</td>\n",
       "      <td>0.00001</td>\n",
       "      <td>500</td>\n",
       "      <td>1</td>\n",
       "      <td>{'tol': 1e-05, 'max_iter': 500, 'C': 1}</td>\n",
       "      <td>0.930883</td>\n",
       "      <td>0.924390</td>\n",
       "      <td>0.917534</td>\n",
       "      <td>0.925139</td>\n",
       "      <td>0.929059</td>\n",
       "      <td>0.925401</td>\n",
       "      <td>0.004613</td>\n",
       "      <td>1</td>\n",
       "    </tr>\n",
       "    <tr>\n",
       "      <th>9</th>\n",
       "      <td>0.921167</td>\n",
       "      <td>0.047501</td>\n",
       "      <td>0.005482</td>\n",
       "      <td>0.001192</td>\n",
       "      <td>0.00001</td>\n",
       "      <td>100</td>\n",
       "      <td>0.5</td>\n",
       "      <td>{'tol': 1e-05, 'max_iter': 100, 'C': 0.5}</td>\n",
       "      <td>0.929849</td>\n",
       "      <td>0.924512</td>\n",
       "      <td>0.917500</td>\n",
       "      <td>0.924416</td>\n",
       "      <td>0.928484</td>\n",
       "      <td>0.924952</td>\n",
       "      <td>0.004301</td>\n",
       "      <td>7</td>\n",
       "    </tr>\n",
       "  </tbody>\n",
       "</table>\n",
       "</div>"
      ],
      "text/plain": [
       "   mean_fit_time  std_fit_time  mean_score_time  std_score_time param_tol  \\\n",
       "0       6.329654      5.070795         0.024479        0.018843     0.001   \n",
       "1       3.659245      1.481168         0.010211        0.001533    0.0001   \n",
       "2       3.290897      0.620117         0.017610        0.005571   0.00001   \n",
       "3       1.896921      0.700983         0.017760        0.008425   0.00001   \n",
       "4       0.983166      0.090894         0.014952        0.004183   0.00001   \n",
       "5       0.916942      0.064328         0.009861        0.003961     0.001   \n",
       "6       0.934410      0.071030         0.009380        0.005395    0.0001   \n",
       "7       0.902001      0.045923         0.007316        0.001179     0.001   \n",
       "8       0.998765      0.228800         0.006995        0.002857   0.00001   \n",
       "9       0.921167      0.047501         0.005482        0.001192   0.00001   \n",
       "\n",
       "  param_max_iter param_C                                     params  \\\n",
       "0            100       2    {'tol': 0.001, 'max_iter': 100, 'C': 2}   \n",
       "1            500       1   {'tol': 0.0001, 'max_iter': 500, 'C': 1}   \n",
       "2           1000       1   {'tol': 1e-05, 'max_iter': 1000, 'C': 1}   \n",
       "3            500     0.5  {'tol': 1e-05, 'max_iter': 500, 'C': 0.5}   \n",
       "4           1000       2   {'tol': 1e-05, 'max_iter': 1000, 'C': 2}   \n",
       "5           1000       1   {'tol': 0.001, 'max_iter': 1000, 'C': 1}   \n",
       "6            100       1   {'tol': 0.0001, 'max_iter': 100, 'C': 1}   \n",
       "7            100       1    {'tol': 0.001, 'max_iter': 100, 'C': 1}   \n",
       "8            500       1    {'tol': 1e-05, 'max_iter': 500, 'C': 1}   \n",
       "9            100     0.5  {'tol': 1e-05, 'max_iter': 100, 'C': 0.5}   \n",
       "\n",
       "   split0_test_score  split1_test_score  split2_test_score  split3_test_score  \\\n",
       "0           0.930946           0.923618           0.916704           0.924780   \n",
       "1           0.930883           0.924390           0.917534           0.925139   \n",
       "2           0.930883           0.924390           0.917534           0.925139   \n",
       "3           0.929849           0.924512           0.917500           0.924416   \n",
       "4           0.930946           0.923618           0.916704           0.924780   \n",
       "5           0.930883           0.924390           0.917534           0.925139   \n",
       "6           0.930883           0.924390           0.917534           0.925139   \n",
       "7           0.930883           0.924390           0.917534           0.925139   \n",
       "8           0.930883           0.924390           0.917534           0.925139   \n",
       "9           0.929849           0.924512           0.917500           0.924416   \n",
       "\n",
       "   split4_test_score  mean_test_score  std_test_score  rank_test_score  \n",
       "0           0.928666         0.924943        0.004890                9  \n",
       "1           0.929059         0.925401        0.004613                1  \n",
       "2           0.929059         0.925401        0.004613                1  \n",
       "3           0.928484         0.924952        0.004301                7  \n",
       "4           0.928666         0.924943        0.004890                9  \n",
       "5           0.929059         0.925401        0.004613                1  \n",
       "6           0.929059         0.925401        0.004613                1  \n",
       "7           0.929059         0.925401        0.004613                1  \n",
       "8           0.929059         0.925401        0.004613                1  \n",
       "9           0.928484         0.924952        0.004301                7  "
      ]
     },
     "execution_count": 17,
     "metadata": {},
     "output_type": "execute_result"
    }
   ],
   "source": [
    "import pandas as pd\n",
    "pd.DataFrame(rand_srCV_LogReg.cv_results_)"
   ]
  },
  {
   "cell_type": "code",
   "execution_count": 18,
   "metadata": {},
   "outputs": [],
   "source": [
    "y_pred_LogReg_srCV = rand_srCV_LogReg.predict(X_test_tf_idf)"
   ]
  },
  {
   "cell_type": "code",
   "execution_count": 20,
   "metadata": {},
   "outputs": [],
   "source": [
    "import evaluation"
   ]
  },
  {
   "cell_type": "code",
   "execution_count": 21,
   "metadata": {},
   "outputs": [
    {
     "name": "stdout",
     "output_type": "stream",
     "text": [
      "Model Performance metrics:\n",
      "------------------------------\n",
      "Accuracy: 0.85932\n",
      "Precision: 0.8514200766763164\n",
      "Recall: 0.87056\n",
      "F1 Score: 0.8608836675764407\n",
      "\n",
      "Model Classification report:\n",
      "------------------------------\n",
      "              precision    recall  f1-score   support\n",
      "\n",
      "           0       0.87      0.85      0.86     12500\n",
      "           1       0.85      0.87      0.86     12500\n",
      "\n",
      "    accuracy                           0.86     25000\n",
      "   macro avg       0.86      0.86      0.86     25000\n",
      "weighted avg       0.86      0.86      0.86     25000\n",
      "\n",
      "\n",
      "Prediction Confusion Matrix:\n",
      "------------------------------\n",
      "       0      1\n",
      "0  10601   1899\n",
      "1   1618  10882\n"
     ]
    },
    {
     "data": {
      "text/plain": [
       "(0.85932, 0.8514200766763164, 0.87056, 0.8608836675764407)"
      ]
     },
     "execution_count": 21,
     "metadata": {},
     "output_type": "execute_result"
    }
   ],
   "source": [
    "evaluation.get_performance(y_pred_LogReg_srCV, y_test, labels=[1, 0])"
   ]
  },
  {
   "cell_type": "code",
   "execution_count": 22,
   "metadata": {},
   "outputs": [
    {
     "data": {
      "image/png": "[encoded data removed]",
      "text/plain": [
       "<Figure size 720x360 with 1 Axes>"
      ]
     },
     "metadata": {
      "needs_background": "light"
     },
     "output_type": "display_data"
    }
   ],
   "source": [
    "roc_auc = evaluation.plot_roc(rand_srCV_LogReg, y_test, X_test_tf_idf)"
   ]
  },
  {
   "cell_type": "code",
   "execution_count": 23,
   "metadata": {},
   "outputs": [
    {
     "name": "stdout",
     "output_type": "stream",
     "text": [
      "The ROC-AUC value is 0.9360264192000001\n"
     ]
    }
   ],
   "source": [
    "print(\"The ROC-AUC value is\",roc_auc)"
   ]
  },
  {
   "cell_type": "code",
   "execution_count": null,
   "metadata": {},
   "outputs": [],
   "source": []
  },
  {
   "cell_type": "markdown",
   "metadata": {},
   "source": [
    "### *Don't change anything in this block, just make it run correctly*\n",
    "\n",
    "Let's check that the `get_performance` function returns the metrics correctly. For that we are going to simulate input/output data of a model."
   ]
  },
  {
   "cell_type": "code",
   "execution_count": 24,
   "metadata": {},
   "outputs": [
    {
     "name": "stdout",
     "output_type": "stream",
     "text": [
      "Model Performance metrics:\n",
      "------------------------------\n",
      "Accuracy: 0.6\n",
      "Precision: 0.6\n",
      "Recall: 0.6\n",
      "F1 Score: 0.6\n",
      "\n",
      "Model Classification report:\n",
      "------------------------------\n",
      "              precision    recall  f1-score   support\n",
      "\n",
      "           0       0.60      0.60      0.60         5\n",
      "           1       0.60      0.60      0.60         5\n",
      "\n",
      "    accuracy                           0.60        10\n",
      "   macro avg       0.60      0.60      0.60        10\n",
      "weighted avg       0.60      0.60      0.60        10\n",
      "\n",
      "\n",
      "Prediction Confusion Matrix:\n",
      "------------------------------\n",
      "   0  1\n",
      "0  3  2\n",
      "1  2  3\n",
      "Success!\n"
     ]
    }
   ],
   "source": [
    "def check_basic_metrics():\n",
    "    accuracy, precision, recall, f1_score = evaluation.get_performance(\n",
    "        [1, 1, 1, 1, 1, 0, 0, 0, 0, 0], \n",
    "        [1, 1, 1, 0, 0, 1, 1, 0, 0, 0]\n",
    "    )\n",
    "    \n",
    "    if (accuracy, precision, recall, f1_score) == (0.6, 0.6, 0.6, 0.6):\n",
    "        print('Success!')\n",
    "    else:\n",
    "        raise ValueError('You must check your get_performance function!')\n",
    "        \n",
    "check_basic_metrics()"
   ]
  },
  {
   "cell_type": "markdown",
   "metadata": {},
   "source": [
    "Let's see if your model at least exceeds an ROC-AUC of 0.93"
   ]
  },
  {
   "cell_type": "code",
   "execution_count": 101,
   "metadata": {},
   "outputs": [
    {
     "name": "stdout",
     "output_type": "stream",
     "text": [
      "Success!\n"
     ]
    }
   ],
   "source": [
    "def check_roc(roc_auc):\n",
    "    if roc_auc > 0.9:\n",
    "        print('Success!')\n",
    "    else:\n",
    "        raise ValueError('Your model is not good enough!')\n",
    "        \n",
    "check_roc(roc_auc)"
   ]
  },
  {
   "cell_type": "code",
   "execution_count": null,
   "metadata": {},
   "outputs": [],
   "source": []
  },
  {
   "cell_type": "markdown",
   "metadata": {},
   "source": [
    "---\n",
    "## 5. Feature Engineering with Custom Word Embedding\n",
    "\n",
    "### Tokenize reviews and train your own Word Embedding\n",
    "\n",
    "You are going to have to train your own word embedding, for this we are going to use the __gensim__ library. The only requirement we ask of you is that the $vector\\_size=100$.\n",
    "\n",
    "[Here](https://radimrehurek.com/gensim/models/word2vec.html) you can read Gensim's Word2Vec documentation so you can train your own embedding, using the review data as a corpus.\n",
    "\n",
    "As a previous step to training your word embedding you must tokenize the corpus, this may take a bit depending on the size of the dataset and the tokenizer we use, if you want you can try the NLTK tokenizer called `ToktokTokenizer`, which turns out to be a little faster (we hope that this recommendation does not bias your work, try and use the ones you want)"
   ]
  },
  {
   "cell_type": "code",
   "execution_count": 48,
   "metadata": {},
   "outputs": [],
   "source": [
    "from gensim.models import Word2Vec"
   ]
  },
  {
   "cell_type": "code",
   "execution_count": 49,
   "metadata": {},
   "outputs": [],
   "source": [
    "X_train_toktok = [tokenizer.tokenize(review) for review in X_train_norm]\n",
    "X_test_toktok = [tokenizer.tokenize(review) for review in X_test_norm]"
   ]
  },
  {
   "cell_type": "code",
   "execution_count": 50,
   "metadata": {},
   "outputs": [],
   "source": [
    "model_w2v = Word2Vec(sentences=X_train_toktok, vector_size=100)  # Replace with your trained model"
   ]
  },
  {
   "cell_type": "markdown",
   "metadata": {},
   "source": [
    "### Generate averaged word vector features\n",
    "\n",
    "Once the embedding has been trained, we must use it. Remember that embedding will convert each word you pass to it into a vector of a given dimension (in our case $vector\\_size=100$). So in order to obtain a vector for each review, you must average the vectors of all the words that are part of the same review.\n",
    "\n",
    "The function must have the following form:\n",
    "* `vectorizer(corpus, model, num_features=100)`\n",
    "\n",
    "\n",
    "Where:\n",
    "* `corpus:` corresponds to the entire dataset, in this way we obtain an average vector for each review, with a single call to the function.\n",
    "* `model:` is your trained model.\n",
    "* `num_features:` the dimension of the output vector of your embedding (remember that in our case we set this value to 100)."
   ]
  },
  {
   "cell_type": "code",
   "execution_count": 51,
   "metadata": {},
   "outputs": [],
   "source": [
    "import numpy as np"
   ]
  },
  {
   "cell_type": "code",
   "execution_count": 52,
   "metadata": {},
   "outputs": [],
   "source": [
    "def vectorizer(corpus, model, num_features=100):\n",
    "    # Put your code\n",
    "    vocabulary = set(model.wv.index_to_key)\n",
    "    \n",
    "    corpus_vectors = []\n",
    "    for review in corpus:\n",
    "        \n",
    "        review_w2v = []\n",
    "        for word in review:\n",
    "            if word in vocabulary:\n",
    "                word_vector = model.wv[word]\n",
    "            else:\n",
    "                word_vector = np.zeros((num_features), dtype=\"float32\")\n",
    "            review_w2v.append(word_vector)\n",
    "        \n",
    "        avg_vector = np.add.reduce(review_w2v)/len(review_w2v)\n",
    "        corpus_vectors.append(avg_vector)\n",
    "                \n",
    "    return corpus_vectors"
   ]
  },
  {
   "cell_type": "code",
   "execution_count": 53,
   "metadata": {},
   "outputs": [],
   "source": [
    "X_train_w2vect = vectorizer(X_train_toktok, model_w2v)\n",
    "X_test_w2vect = vectorizer(X_test_toktok, model_w2v)"
   ]
  },
  {
   "cell_type": "code",
   "execution_count": null,
   "metadata": {},
   "outputs": [],
   "source": []
  },
  {
   "cell_type": "markdown",
   "metadata": {},
   "source": [
    "### *Don't change anything in this block, just make it run correctly*\n",
    "\n",
    "Let's do a simple check of the embedding that you just trained."
   ]
  },
  {
   "cell_type": "code",
   "execution_count": 54,
   "metadata": {},
   "outputs": [
    {
     "name": "stdout",
     "output_type": "stream",
     "text": [
      "Success! Your embedding tells me that \"women\" and \"man\" are similar with a score of 0.7077704668045044\n"
     ]
    }
   ],
   "source": [
    "def check_embedding(model):\n",
    "    vector = model.wv['computer']\n",
    "    if len(vector) == 100:\n",
    "        print(\n",
    "            'Success! Your embedding tells me that \"women\" and \"man\" '\n",
    "            f'are similar with a score of {model.wv.similarity(\"woman\", \"man\")}'\n",
    "        )\n",
    "    else:\n",
    "        raise ValueError('You should check your embedding vector size!')\n",
    "        \n",
    "check_embedding(model_w2v)"
   ]
  },
  {
   "cell_type": "markdown",
   "metadata": {},
   "source": [
    "Now, we are going to check the vectorizer, remember that the vectorizer must generate an average vector of all the words present in the same review. So we're going to get two vectors of two words and manually average them, then using those two words we'll simulate a tokenized sentence and see that it matches the manual way."
   ]
  },
  {
   "cell_type": "code",
   "execution_count": 55,
   "metadata": {},
   "outputs": [
    {
     "name": "stdout",
     "output_type": "stream",
     "text": [
      "Success!\n"
     ]
    }
   ],
   "source": [
    "def check_vectorizer(model):\n",
    "    vector1 = model.wv['personal']\n",
    "    vector2 = model.wv['computer']\n",
    "    avg = vectorizer([['personal', 'computer']], model)[0]\n",
    "\n",
    "    if np.allclose((vector1 + vector2) / 2, avg):\n",
    "        print('Success!')\n",
    "    else:\n",
    "        raise ValueError('You should check your vectorizer!')\n",
    "        \n",
    "check_vectorizer(model_w2v)"
   ]
  },
  {
   "cell_type": "markdown",
   "metadata": {},
   "source": [
    "### Modeling\n",
    "\n",
    "Finally train a new model, it can be the same one you used before and compare the results you got using BoW/TF-IDF and Word2Vec.\n",
    "\n",
    "In addition to training the model we ask you to show:\n",
    "\n",
    "* `Accuracy`\n",
    "* `Recall`\n",
    "* `F1-Score`\n",
    "* `Classification Report`\n",
    "* `Confusion Matrix`\n",
    "* `ROC Curve`\n",
    "* `Obtain the ROC-AUC value (later we will do a small minimum performance check with this value)`"
   ]
  },
  {
   "cell_type": "code",
   "execution_count": 91,
   "metadata": {},
   "outputs": [],
   "source": [
    "# Training a SVC classifier model - with RandomizedSearchCV to find the best combination of hyperparameters\n",
    "\n",
    "hyperparameter_grid_SVC_w2v = {\n",
    "    \"tol\": [0.0001, 0.001, 0.01],\n",
    "    \"C\": [2, 1, 0.5],\n",
    "    \"gamma\": [\"scale\", \"auto\"]\n",
    "}"
   ]
  },
  {
   "cell_type": "code",
   "execution_count": 92,
   "metadata": {},
   "outputs": [
    {
     "data": {
      "text/html": [
       "<style>#sk-container-id-8 {color: black;background-color: white;}#sk-container-id-8 pre{padding: 0;}#sk-container-id-8 div.sk-toggleable {background-color: white;}#sk-container-id-8 label.sk-toggleable__label {cursor: pointer;display: block;width: 100%;margin-bottom: 0;padding: 0.3em;box-sizing: border-box;text-align: center;}#sk-container-id-8 label.sk-toggleable__label-arrow:before {content: \"▸\";float: left;margin-right: 0.25em;color: #696969;}#sk-container-id-8 label.sk-toggleable__label-arrow:hover:before {color: black;}#sk-container-id-8 div.sk-estimator:hover label.sk-toggleable__label-arrow:before {color: black;}#sk-container-id-8 div.sk-toggleable__content {max-height: 0;max-width: 0;overflow: hidden;text-align: left;background-color: #f0f8ff;}#sk-container-id-8 div.sk-toggleable__content pre {margin: 0.2em;color: black;border-radius: 0.25em;background-color: #f0f8ff;}#sk-container-id-8 input.sk-toggleable__control:checked~div.sk-toggleable__content {max-height: 200px;max-width: 100%;overflow: auto;}#sk-container-id-8 input.sk-toggleable__control:checked~label.sk-toggleable__label-arrow:before {content: \"▾\";}#sk-container-id-8 div.sk-estimator input.sk-toggleable__control:checked~label.sk-toggleable__label {background-color: #d4ebff;}#sk-container-id-8 div.sk-label input.sk-toggleable__control:checked~label.sk-toggleable__label {background-color: #d4ebff;}#sk-container-id-8 input.sk-hidden--visually {border: 0;clip: rect(1px 1px 1px 1px);clip: rect(1px, 1px, 1px, 1px);height: 1px;margin: -1px;overflow: hidden;padding: 0;position: absolute;width: 1px;}#sk-container-id-8 div.sk-estimator {font-family: monospace;background-color: #f0f8ff;border: 1px dotted black;border-radius: 0.25em;box-sizing: border-box;margin-bottom: 0.5em;}#sk-container-id-8 div.sk-estimator:hover {background-color: #d4ebff;}#sk-container-id-8 div.sk-parallel-item::after {content: \"\";width: 100%;border-bottom: 1px solid gray;flex-grow: 1;}#sk-container-id-8 div.sk-label:hover label.sk-toggleable__label {background-color: #d4ebff;}#sk-container-id-8 div.sk-serial::before {content: \"\";position: absolute;border-left: 1px solid gray;box-sizing: border-box;top: 0;bottom: 0;left: 50%;z-index: 0;}#sk-container-id-8 div.sk-serial {display: flex;flex-direction: column;align-items: center;background-color: white;padding-right: 0.2em;padding-left: 0.2em;position: relative;}#sk-container-id-8 div.sk-item {position: relative;z-index: 1;}#sk-container-id-8 div.sk-parallel {display: flex;align-items: stretch;justify-content: center;background-color: white;position: relative;}#sk-container-id-8 div.sk-item::before, #sk-container-id-8 div.sk-parallel-item::before {content: \"\";position: absolute;border-left: 1px solid gray;box-sizing: border-box;top: 0;bottom: 0;left: 50%;z-index: -1;}#sk-container-id-8 div.sk-parallel-item {display: flex;flex-direction: column;z-index: 1;position: relative;background-color: white;}#sk-container-id-8 div.sk-parallel-item:first-child::after {align-self: flex-end;width: 50%;}#sk-container-id-8 div.sk-parallel-item:last-child::after {align-self: flex-start;width: 50%;}#sk-container-id-8 div.sk-parallel-item:only-child::after {width: 0;}#sk-container-id-8 div.sk-dashed-wrapped {border: 1px dashed gray;margin: 0 0.4em 0.5em 0.4em;box-sizing: border-box;padding-bottom: 0.4em;background-color: white;}#sk-container-id-8 div.sk-label label {font-family: monospace;font-weight: bold;display: inline-block;line-height: 1.2em;}#sk-container-id-8 div.sk-label-container {text-align: center;}#sk-container-id-8 div.sk-container {/* jupyter's `normalize.less` sets `[hidden] { display: none; }` but bootstrap.min.css set `[hidden] { display: none !important; }` so we also need the `!important` here to be able to override the default hidden behavior on the sphinx rendered scikit-learn.org. See: https://github.com/scikit-learn/scikit-learn/issues/21755 */display: inline-block !important;position: relative;}#sk-container-id-8 div.sk-text-repr-fallback {display: none;}</style><div id=\"sk-container-id-8\" class=\"sk-top-container\"><div class=\"sk-text-repr-fallback\"><pre>RandomizedSearchCV(estimator=SVC(probability=True, random_state=42),\n",
       "                   param_distributions={&#x27;C&#x27;: [2, 1, 0.5],\n",
       "                                        &#x27;gamma&#x27;: [&#x27;scale&#x27;, &#x27;auto&#x27;],\n",
       "                                        &#x27;tol&#x27;: [0.0001, 0.001, 0.01]},\n",
       "                   random_state=42, scoring=&#x27;roc_auc&#x27;)</pre><b>In a Jupyter environment, please rerun this cell to show the HTML representation or trust the notebook. <br />On GitHub, the HTML representation is unable to render, please try loading this page with nbviewer.org.</b></div><div class=\"sk-container\" hidden><div class=\"sk-item sk-dashed-wrapped\"><div class=\"sk-label-container\"><div class=\"sk-label sk-toggleable\"><input class=\"sk-toggleable__control sk-hidden--visually\" id=\"sk-estimator-id-12\" type=\"checkbox\" ><label for=\"sk-estimator-id-12\" class=\"sk-toggleable__label sk-toggleable__label-arrow\">RandomizedSearchCV</label><div class=\"sk-toggleable__content\"><pre>RandomizedSearchCV(estimator=SVC(probability=True, random_state=42),\n",
       "                   param_distributions={&#x27;C&#x27;: [2, 1, 0.5],\n",
       "                                        &#x27;gamma&#x27;: [&#x27;scale&#x27;, &#x27;auto&#x27;],\n",
       "                                        &#x27;tol&#x27;: [0.0001, 0.001, 0.01]},\n",
       "                   random_state=42, scoring=&#x27;roc_auc&#x27;)</pre></div></div></div><div class=\"sk-parallel\"><div class=\"sk-parallel-item\"><div class=\"sk-item\"><div class=\"sk-label-container\"><div class=\"sk-label sk-toggleable\"><input class=\"sk-toggleable__control sk-hidden--visually\" id=\"sk-estimator-id-13\" type=\"checkbox\" ><label for=\"sk-estimator-id-13\" class=\"sk-toggleable__label sk-toggleable__label-arrow\">estimator: SVC</label><div class=\"sk-toggleable__content\"><pre>SVC(probability=True, random_state=42)</pre></div></div></div><div class=\"sk-serial\"><div class=\"sk-item\"><div class=\"sk-estimator sk-toggleable\"><input class=\"sk-toggleable__control sk-hidden--visually\" id=\"sk-estimator-id-14\" type=\"checkbox\" ><label for=\"sk-estimator-id-14\" class=\"sk-toggleable__label sk-toggleable__label-arrow\">SVC</label><div class=\"sk-toggleable__content\"><pre>SVC(probability=True, random_state=42)</pre></div></div></div></div></div></div></div></div></div></div>"
      ],
      "text/plain": [
       "RandomizedSearchCV(estimator=SVC(probability=True, random_state=42),\n",
       "                   param_distributions={'C': [2, 1, 0.5],\n",
       "                                        'gamma': ['scale', 'auto'],\n",
       "                                        'tol': [0.0001, 0.001, 0.01]},\n",
       "                   random_state=42, scoring='roc_auc')"
      ]
     },
     "execution_count": 92,
     "metadata": {},
     "output_type": "execute_result"
    }
   ],
   "source": [
    "from sklearn.svm import SVC\n",
    "\n",
    "model_SVC_srCV_w2v = SVC(random_state=42, probability=True)\n",
    "rand_srCV_SVC_w2v = RandomizedSearchCV(model_SVC_srCV_w2v, hyperparameter_grid_SVC_w2v, scoring=\"roc_auc\", random_state=42)\n",
    "rand_srCV_SVC_w2v.fit(X_train_w2vect, y_train)"
   ]
  },
  {
   "cell_type": "code",
   "execution_count": 93,
   "metadata": {},
   "outputs": [
    {
     "data": {
      "text/plain": [
       "{'tol': 0.01, 'gamma': 'scale', 'C': 2}"
      ]
     },
     "execution_count": 93,
     "metadata": {},
     "output_type": "execute_result"
    }
   ],
   "source": [
    "rand_srCV_SVC_w2v.best_params_"
   ]
  },
  {
   "cell_type": "code",
   "execution_count": 94,
   "metadata": {},
   "outputs": [
    {
     "data": {
      "text/plain": [
       "{'C': 2,\n",
       " 'break_ties': False,\n",
       " 'cache_size': 200,\n",
       " 'class_weight': None,\n",
       " 'coef0': 0.0,\n",
       " 'decision_function_shape': 'ovr',\n",
       " 'degree': 3,\n",
       " 'gamma': 'scale',\n",
       " 'kernel': 'rbf',\n",
       " 'max_iter': -1,\n",
       " 'probability': True,\n",
       " 'random_state': 42,\n",
       " 'shrinking': True,\n",
       " 'tol': 0.01,\n",
       " 'verbose': False}"
      ]
     },
     "execution_count": 94,
     "metadata": {},
     "output_type": "execute_result"
    }
   ],
   "source": [
    "rand_srCV_SVC_w2v.best_estimator_.get_params()"
   ]
  },
  {
   "cell_type": "code",
   "execution_count": 95,
   "metadata": {},
   "outputs": [
    {
     "data": {
      "text/html": [
       "<div>\n",
       "<style scoped>\n",
       "    .dataframe tbody tr th:only-of-type {\n",
       "        vertical-align: middle;\n",
       "    }\n",
       "\n",
       "    .dataframe tbody tr th {\n",
       "        vertical-align: top;\n",
       "    }\n",
       "\n",
       "    .dataframe thead th {\n",
       "        text-align: right;\n",
       "    }\n",
       "</style>\n",
       "<table border=\"1\" class=\"dataframe\">\n",
       "  <thead>\n",
       "    <tr style=\"text-align: right;\">\n",
       "      <th></th>\n",
       "      <th>mean_fit_time</th>\n",
       "      <th>std_fit_time</th>\n",
       "      <th>mean_score_time</th>\n",
       "      <th>std_score_time</th>\n",
       "      <th>param_tol</th>\n",
       "      <th>param_gamma</th>\n",
       "      <th>param_C</th>\n",
       "      <th>params</th>\n",
       "      <th>split0_test_score</th>\n",
       "      <th>split1_test_score</th>\n",
       "      <th>split2_test_score</th>\n",
       "      <th>split3_test_score</th>\n",
       "      <th>split4_test_score</th>\n",
       "      <th>mean_test_score</th>\n",
       "      <th>std_test_score</th>\n",
       "      <th>rank_test_score</th>\n",
       "    </tr>\n",
       "  </thead>\n",
       "  <tbody>\n",
       "    <tr>\n",
       "      <th>0</th>\n",
       "      <td>187.127349</td>\n",
       "      <td>5.820293</td>\n",
       "      <td>5.080631</td>\n",
       "      <td>0.294972</td>\n",
       "      <td>0.0001</td>\n",
       "      <td>scale</td>\n",
       "      <td>2</td>\n",
       "      <td>{'tol': 0.0001, 'gamma': 'scale', 'C': 2}</td>\n",
       "      <td>0.901469</td>\n",
       "      <td>0.903362</td>\n",
       "      <td>0.892694</td>\n",
       "      <td>0.894089</td>\n",
       "      <td>0.905645</td>\n",
       "      <td>0.899452</td>\n",
       "      <td>0.005141</td>\n",
       "      <td>3</td>\n",
       "    </tr>\n",
       "    <tr>\n",
       "      <th>1</th>\n",
       "      <td>184.689316</td>\n",
       "      <td>4.036135</td>\n",
       "      <td>5.212856</td>\n",
       "      <td>0.633573</td>\n",
       "      <td>0.001</td>\n",
       "      <td>scale</td>\n",
       "      <td>2</td>\n",
       "      <td>{'tol': 0.001, 'gamma': 'scale', 'C': 2}</td>\n",
       "      <td>0.901470</td>\n",
       "      <td>0.903367</td>\n",
       "      <td>0.892692</td>\n",
       "      <td>0.894090</td>\n",
       "      <td>0.905644</td>\n",
       "      <td>0.899453</td>\n",
       "      <td>0.005142</td>\n",
       "      <td>2</td>\n",
       "    </tr>\n",
       "    <tr>\n",
       "      <th>2</th>\n",
       "      <td>189.958650</td>\n",
       "      <td>6.048251</td>\n",
       "      <td>5.280689</td>\n",
       "      <td>0.143211</td>\n",
       "      <td>0.01</td>\n",
       "      <td>scale</td>\n",
       "      <td>1</td>\n",
       "      <td>{'tol': 0.01, 'gamma': 'scale', 'C': 1}</td>\n",
       "      <td>0.899550</td>\n",
       "      <td>0.902336</td>\n",
       "      <td>0.890569</td>\n",
       "      <td>0.891776</td>\n",
       "      <td>0.903674</td>\n",
       "      <td>0.897581</td>\n",
       "      <td>0.005413</td>\n",
       "      <td>4</td>\n",
       "    </tr>\n",
       "    <tr>\n",
       "      <th>3</th>\n",
       "      <td>208.469764</td>\n",
       "      <td>2.135654</td>\n",
       "      <td>5.739395</td>\n",
       "      <td>0.059123</td>\n",
       "      <td>0.01</td>\n",
       "      <td>auto</td>\n",
       "      <td>2</td>\n",
       "      <td>{'tol': 0.01, 'gamma': 'auto', 'C': 2}</td>\n",
       "      <td>0.890492</td>\n",
       "      <td>0.893132</td>\n",
       "      <td>0.879656</td>\n",
       "      <td>0.879948</td>\n",
       "      <td>0.893331</td>\n",
       "      <td>0.887312</td>\n",
       "      <td>0.006214</td>\n",
       "      <td>6</td>\n",
       "    </tr>\n",
       "    <tr>\n",
       "      <th>4</th>\n",
       "      <td>219.213271</td>\n",
       "      <td>16.095513</td>\n",
       "      <td>6.104573</td>\n",
       "      <td>0.480652</td>\n",
       "      <td>0.0001</td>\n",
       "      <td>auto</td>\n",
       "      <td>2</td>\n",
       "      <td>{'tol': 0.0001, 'gamma': 'auto', 'C': 2}</td>\n",
       "      <td>0.890501</td>\n",
       "      <td>0.893149</td>\n",
       "      <td>0.879654</td>\n",
       "      <td>0.879955</td>\n",
       "      <td>0.893289</td>\n",
       "      <td>0.887310</td>\n",
       "      <td>0.006209</td>\n",
       "      <td>7</td>\n",
       "    </tr>\n",
       "    <tr>\n",
       "      <th>5</th>\n",
       "      <td>196.632192</td>\n",
       "      <td>1.944285</td>\n",
       "      <td>5.330263</td>\n",
       "      <td>0.030516</td>\n",
       "      <td>0.001</td>\n",
       "      <td>scale</td>\n",
       "      <td>0.5</td>\n",
       "      <td>{'tol': 0.001, 'gamma': 'scale', 'C': 0.5}</td>\n",
       "      <td>0.896901</td>\n",
       "      <td>0.900616</td>\n",
       "      <td>0.887923</td>\n",
       "      <td>0.888642</td>\n",
       "      <td>0.901273</td>\n",
       "      <td>0.895071</td>\n",
       "      <td>0.005745</td>\n",
       "      <td>5</td>\n",
       "    </tr>\n",
       "    <tr>\n",
       "      <th>6</th>\n",
       "      <td>240.547952</td>\n",
       "      <td>3.463187</td>\n",
       "      <td>7.539587</td>\n",
       "      <td>1.023779</td>\n",
       "      <td>0.001</td>\n",
       "      <td>auto</td>\n",
       "      <td>0.5</td>\n",
       "      <td>{'tol': 0.001, 'gamma': 'auto', 'C': 0.5}</td>\n",
       "      <td>0.881839</td>\n",
       "      <td>0.885380</td>\n",
       "      <td>0.873016</td>\n",
       "      <td>0.869954</td>\n",
       "      <td>0.883916</td>\n",
       "      <td>0.878821</td>\n",
       "      <td>0.006171</td>\n",
       "      <td>10</td>\n",
       "    </tr>\n",
       "    <tr>\n",
       "      <th>7</th>\n",
       "      <td>243.805588</td>\n",
       "      <td>5.785131</td>\n",
       "      <td>7.295217</td>\n",
       "      <td>0.891744</td>\n",
       "      <td>0.0001</td>\n",
       "      <td>auto</td>\n",
       "      <td>0.5</td>\n",
       "      <td>{'tol': 0.0001, 'gamma': 'auto', 'C': 0.5}</td>\n",
       "      <td>0.881842</td>\n",
       "      <td>0.885384</td>\n",
       "      <td>0.873014</td>\n",
       "      <td>0.869954</td>\n",
       "      <td>0.883915</td>\n",
       "      <td>0.878822</td>\n",
       "      <td>0.006172</td>\n",
       "      <td>9</td>\n",
       "    </tr>\n",
       "    <tr>\n",
       "      <th>8</th>\n",
       "      <td>277.484697</td>\n",
       "      <td>39.128153</td>\n",
       "      <td>8.457069</td>\n",
       "      <td>1.582579</td>\n",
       "      <td>0.01</td>\n",
       "      <td>auto</td>\n",
       "      <td>1</td>\n",
       "      <td>{'tol': 0.01, 'gamma': 'auto', 'C': 1}</td>\n",
       "      <td>0.886762</td>\n",
       "      <td>0.889927</td>\n",
       "      <td>0.877165</td>\n",
       "      <td>0.875806</td>\n",
       "      <td>0.889324</td>\n",
       "      <td>0.883797</td>\n",
       "      <td>0.006079</td>\n",
       "      <td>8</td>\n",
       "    </tr>\n",
       "    <tr>\n",
       "      <th>9</th>\n",
       "      <td>187.415516</td>\n",
       "      <td>4.880842</td>\n",
       "      <td>5.249678</td>\n",
       "      <td>0.612150</td>\n",
       "      <td>0.01</td>\n",
       "      <td>scale</td>\n",
       "      <td>2</td>\n",
       "      <td>{'tol': 0.01, 'gamma': 'scale', 'C': 2}</td>\n",
       "      <td>0.901484</td>\n",
       "      <td>0.903380</td>\n",
       "      <td>0.892680</td>\n",
       "      <td>0.894108</td>\n",
       "      <td>0.905633</td>\n",
       "      <td>0.899457</td>\n",
       "      <td>0.005142</td>\n",
       "      <td>1</td>\n",
       "    </tr>\n",
       "  </tbody>\n",
       "</table>\n",
       "</div>"
      ],
      "text/plain": [
       "   mean_fit_time  std_fit_time  mean_score_time  std_score_time param_tol  \\\n",
       "0     187.127349      5.820293         5.080631        0.294972    0.0001   \n",
       "1     184.689316      4.036135         5.212856        0.633573     0.001   \n",
       "2     189.958650      6.048251         5.280689        0.143211      0.01   \n",
       "3     208.469764      2.135654         5.739395        0.059123      0.01   \n",
       "4     219.213271     16.095513         6.104573        0.480652    0.0001   \n",
       "5     196.632192      1.944285         5.330263        0.030516     0.001   \n",
       "6     240.547952      3.463187         7.539587        1.023779     0.001   \n",
       "7     243.805588      5.785131         7.295217        0.891744    0.0001   \n",
       "8     277.484697     39.128153         8.457069        1.582579      0.01   \n",
       "9     187.415516      4.880842         5.249678        0.612150      0.01   \n",
       "\n",
       "  param_gamma param_C                                      params  \\\n",
       "0       scale       2   {'tol': 0.0001, 'gamma': 'scale', 'C': 2}   \n",
       "1       scale       2    {'tol': 0.001, 'gamma': 'scale', 'C': 2}   \n",
       "2       scale       1     {'tol': 0.01, 'gamma': 'scale', 'C': 1}   \n",
       "3        auto       2      {'tol': 0.01, 'gamma': 'auto', 'C': 2}   \n",
       "4        auto       2    {'tol': 0.0001, 'gamma': 'auto', 'C': 2}   \n",
       "5       scale     0.5  {'tol': 0.001, 'gamma': 'scale', 'C': 0.5}   \n",
       "6        auto     0.5   {'tol': 0.001, 'gamma': 'auto', 'C': 0.5}   \n",
       "7        auto     0.5  {'tol': 0.0001, 'gamma': 'auto', 'C': 0.5}   \n",
       "8        auto       1      {'tol': 0.01, 'gamma': 'auto', 'C': 1}   \n",
       "9       scale       2     {'tol': 0.01, 'gamma': 'scale', 'C': 2}   \n",
       "\n",
       "   split0_test_score  split1_test_score  split2_test_score  split3_test_score  \\\n",
       "0           0.901469           0.903362           0.892694           0.894089   \n",
       "1           0.901470           0.903367           0.892692           0.894090   \n",
       "2           0.899550           0.902336           0.890569           0.891776   \n",
       "3           0.890492           0.893132           0.879656           0.879948   \n",
       "4           0.890501           0.893149           0.879654           0.879955   \n",
       "5           0.896901           0.900616           0.887923           0.888642   \n",
       "6           0.881839           0.885380           0.873016           0.869954   \n",
       "7           0.881842           0.885384           0.873014           0.869954   \n",
       "8           0.886762           0.889927           0.877165           0.875806   \n",
       "9           0.901484           0.903380           0.892680           0.894108   \n",
       "\n",
       "   split4_test_score  mean_test_score  std_test_score  rank_test_score  \n",
       "0           0.905645         0.899452        0.005141                3  \n",
       "1           0.905644         0.899453        0.005142                2  \n",
       "2           0.903674         0.897581        0.005413                4  \n",
       "3           0.893331         0.887312        0.006214                6  \n",
       "4           0.893289         0.887310        0.006209                7  \n",
       "5           0.901273         0.895071        0.005745                5  \n",
       "6           0.883916         0.878821        0.006171               10  \n",
       "7           0.883915         0.878822        0.006172                9  \n",
       "8           0.889324         0.883797        0.006079                8  \n",
       "9           0.905633         0.899457        0.005142                1  "
      ]
     },
     "execution_count": 95,
     "metadata": {},
     "output_type": "execute_result"
    }
   ],
   "source": [
    "pd.DataFrame(rand_srCV_SVC_w2v.cv_results_)"
   ]
  },
  {
   "cell_type": "code",
   "execution_count": 96,
   "metadata": {},
   "outputs": [],
   "source": [
    "y_pred_SVC_srCV_w2v = rand_srCV_SVC_w2v.predict(X_test_w2vect)"
   ]
  },
  {
   "cell_type": "code",
   "execution_count": 97,
   "metadata": {},
   "outputs": [
    {
     "name": "stdout",
     "output_type": "stream",
     "text": [
      "Model Performance metrics:\n",
      "------------------------------\n",
      "Accuracy: 0.82604\n",
      "Precision: 0.8279552587108715\n",
      "Recall: 0.82312\n",
      "F1 Score: 0.8255305492036747\n",
      "\n",
      "Model Classification report:\n",
      "------------------------------\n",
      "              precision    recall  f1-score   support\n",
      "\n",
      "           0       0.82      0.83      0.83     12500\n",
      "           1       0.83      0.82      0.83     12500\n",
      "\n",
      "    accuracy                           0.83     25000\n",
      "   macro avg       0.83      0.83      0.83     25000\n",
      "weighted avg       0.83      0.83      0.83     25000\n",
      "\n",
      "\n",
      "Prediction Confusion Matrix:\n",
      "------------------------------\n",
      "       0      1\n",
      "0  10362   2138\n",
      "1   2211  10289\n"
     ]
    },
    {
     "data": {
      "text/plain": [
       "(0.82604, 0.8279552587108715, 0.82312, 0.8255305492036747)"
      ]
     },
     "execution_count": 97,
     "metadata": {},
     "output_type": "execute_result"
    }
   ],
   "source": [
    "evaluation.get_performance(y_pred_SVC_srCV_w2v, y_test, labels=[1, 0])"
   ]
  },
  {
   "cell_type": "code",
   "execution_count": 98,
   "metadata": {},
   "outputs": [
    {
     "data": {
      "image/png": "[encoded data removed]",
      "text/plain": [
       "<Figure size 720x360 with 1 Axes>"
      ]
     },
     "metadata": {
      "needs_background": "light"
     },
     "output_type": "display_data"
    }
   ],
   "source": [
    "roc_auc = evaluation.plot_roc(rand_srCV_SVC_w2v, y_test, X_test_w2vect)"
   ]
  },
  {
   "cell_type": "code",
   "execution_count": 99,
   "metadata": {},
   "outputs": [
    {
     "name": "stdout",
     "output_type": "stream",
     "text": [
      "The ROC-AUC value is 0.9070350591999999\n"
     ]
    }
   ],
   "source": [
    "print(\"The ROC-AUC value is\",roc_auc)"
   ]
  },
  {
   "cell_type": "code",
   "execution_count": null,
   "metadata": {},
   "outputs": [],
   "source": []
  },
  {
   "cell_type": "markdown",
   "metadata": {},
   "source": [
    "### *Don't change anything in this block, just make it run correctly*"
   ]
  },
  {
   "cell_type": "code",
   "execution_count": 102,
   "metadata": {},
   "outputs": [
    {
     "name": "stdout",
     "output_type": "stream",
     "text": [
      "Success!\n"
     ]
    }
   ],
   "source": [
    "check_roc(roc_auc)"
   ]
  },
  {
   "cell_type": "markdown",
   "metadata": {},
   "source": [
    "---\n",
    "### OPTIONAL:\n",
    "\n",
    "In our case, we train a word embedding from scratch, which is very good at an educational level, but when applying it to a real problem, we need a lot of data (which is not the case with our problem). Therefore, we invite you to investigate and use one of the `pre-trained Word2Vec models`.\n",
    "\n",
    "If you look for the `Pretrained models` section in this [link](https://radimrehurek.com/gensim/models/word2vec.html), you will find information about the models that Gensim owns."
   ]
  }
 ],
 "metadata": {
  "anaconda-cloud": {},
  "kernelspec": {
   "display_name": "Python 3 (ipykernel)",
   "language": "python",
   "name": "python3"
  },
  "language_info": {
   "codemirror_mode": {
    "name": "ipython",
    "version": 3
   },
   "file_extension": ".py",
   "mimetype": "text/x-python",
   "name": "python",
   "nbconvert_exporter": "python",
   "pygments_lexer": "ipython3",
   "version": "3.8.13"
  }
 },
 "nbformat": 4,
 "nbformat_minor": 1
}
